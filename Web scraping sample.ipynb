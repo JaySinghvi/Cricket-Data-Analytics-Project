{
 "cells": [
  {
   "cell_type": "code",
   "execution_count": 1,
   "id": "22a2783a-1dca-40ed-924b-f236db28e18e",
   "metadata": {},
   "outputs": [],
   "source": [
    "from urllib.request import urlopen\n",
    "from bs4 import BeautifulSoup"
   ]
  },
  {
   "cell_type": "code",
   "execution_count": 2,
   "id": "d9dcce67-f029-4258-85ba-678e8b2e433d",
   "metadata": {},
   "outputs": [],
   "source": [
    "url = \"https://www.espncricinfo.com/records/tournament/team-match-results/icc-men-s-t20-world-cup-2022-23-14450\"\n",
    "html = urlopen(url)"
   ]
  },
  {
   "cell_type": "code",
   "execution_count": 4,
   "id": "b0e1cff3-55f0-43ea-839e-5647f0c14829",
   "metadata": {},
   "outputs": [
    {
     "name": "stdout",
     "output_type": "stream",
     "text": [
      "<title>ICC Men's T20 World Cup, 2022/23 team match results Records | ESPNcricinfo</title>\n"
     ]
    }
   ],
   "source": [
    "soup = BeautifulSoup(html, 'lxml')\n",
    "title = soup.title\n",
    "print(title)"
   ]
  },
  {
   "cell_type": "code",
   "execution_count": 5,
   "id": "351a7f04-3cba-406c-8548-14b8c4e1e76b",
   "metadata": {},
   "outputs": [
    {
     "name": "stdout",
     "output_type": "stream",
     "text": [
      "ICC Men's T20 World Cup, 2022/23 team match results Records | ESPNcricinfoLive ScoresSeriesTeamsNewsFeaturesVideosStatsIPL 2024Edition USRecordsHome2024Ask CricinfoStatsguruWorld CupT20 WC (M)IPLBBLMore RecordsICC Men's T20 World Cup, 2022/23 RecordsTeam Match Results Cricket Records in ICC Men's T20 World Cup, 2022/23Match resultsTeam 1Team 2WinnerMarginGroundMatch DateScorecardEnglandPakistanEngland5 wicketsMelbourneNov 13, 2022T20I # 1879EnglandIndiaEngland10 wicketsAdelaideNov 10, 2022T20I # 1878New ZealandPakistanPakistan7 wicketsSydneyNov 9, 2022T20I # 1877IndiaZimbabweIndia71 runsMelbourneNov 6, 2022T20I # 1873BangladeshPakistanPakistan5 wicketsAdelaideNov 6, 2022T20I # 1872NetherlandsSouth AfricaNetherlands13 runsAdelaideNov 6, 2022T20I # 1871EnglandSri LankaEngland4 wicketsSydneyNov 5, 2022T20I # 1867AustraliaAfghanistanAustralia4 runsAdelaideNov 4, 2022T20I # 1864IrelandNew ZealandNew Zealand35 runsAdelaideNov 4, 2022T20I # 1862PakistanSouth AfricaPakistan33 runsSydneyNov 3, 2022T20I # 1861BangladeshIndiaIndia5 runsAdelaideNov 2, 2022T20I # 1860NetherlandsZimbabweNetherlands5 wicketsAdelaideNov 2, 2022T20I # 1859EnglandNew ZealandEngland20 runsBrisbaneNov 1, 2022T20I # 1858AfghanistanSri LankaSri Lanka6 wicketsBrisbaneNov 1, 2022T20I # 1856AustraliaIrelandAustralia42 runsBrisbaneOct 31, 2022T20I # 1855IndiaSouth AfricaSouth Africa5 wicketsPerthOct 30, 2022T20I # 1853NetherlandsPakistanPakistan6 wicketsPerthOct 30, 2022T20I # 1852BangladeshZimbabweBangladesh3 runsBrisbaneOct 30, 2022T20I # 1851New ZealandSri LankaNew Zealand65 runsSydneyOct 29, 2022T20I # 1850PakistanZimbabweZimbabwe1 runPerthOct 27, 2022T20I # 1849IndiaNetherlandsIndia56 runsSydneyOct 27, 2022T20I # 1848BangladeshSouth AfricaSouth Africa104 runsSydneyOct 27, 2022T20I # 1847EnglandIrelandIreland5 runsMelbourneOct 26, 2022T20I # 1846AustraliaSri LankaAustralia7 wicketsPerthOct 25, 2022T20I # 1845South AfricaZimbabweno result-HobartOct 24, 2022T20I # 1844BangladeshNetherlandsBangladesh9 runsHobartOct 24, 2022T20I # 1843IndiaPakistanIndia4 wicketsMelbourneOct 23, 2022T20I # 1842IrelandSri LankaSri Lanka9 wicketsHobartOct 23, 2022T20I # 1841AfghanistanEnglandEngland5 wicketsPerthOct 22, 2022T20I # 1840AustraliaNew ZealandNew Zealand89 runsSydneyOct 22, 2022T20I # 1839ScotlandZimbabweZimbabwe5 wicketsHobartOct 21, 2022T20I # 1838IrelandWest IndiesIreland9 wicketsHobartOct 21, 2022T20I # 1837NamibiaU.A.E.U.A.E.7 runsGeelongOct 20, 2022T20I # 1836NetherlandsSri LankaSri Lanka16 runsGeelongOct 20, 2022T20I # 1835West IndiesZimbabweWest Indies31 runsHobartOct 19, 2022T20I # 1834IrelandScotlandIreland6 wicketsHobartOct 19, 2022T20I # 1833Sri LankaU.A.E.Sri Lanka79 runsGeelongOct 18, 2022T20I # 1832NamibiaNetherlandsNetherlands5 wicketsGeelongOct 18, 2022T20I # 1830IrelandZimbabweZimbabwe31 runsHobartOct 17, 2022T20I # 1828ScotlandWest IndiesScotland42 runsHobartOct 17, 2022T20I # 1826NetherlandsU.A.E.Netherlands3 wicketsGeelongOct 16, 2022T20I # 1825NamibiaSri LankaNamibia55 runsGeelongOct 16, 2022T20I # 1823Adjust:Most recentPast weekPast MonthPast year4 years10 years25 yearsRecords includes the following current or recent matches:England v Pakistan at Melbourne, ICC Men's T20 World Cup final, Nov 13, 2022 [T20I # 1879]England v India at Adelaide, ICC Men's T20 World Cup 2nd semi final, Nov 10, 2022 [T20I # 1878]New Zealand v Pakistan at Sydney, ICC Men's T20 World Cup 1st semi final, Nov 9, 2022 [T20I # 1877]Terms of Use|Privacy Policy|Your US State Privacy Rights|Children's Online Privacy Policy|Interest - Based Ads|Do Not Sell or Share My Personal Information|Feedback© 2024 ESPN Sports Media Ltd. All rights reserved\n"
     ]
    }
   ],
   "source": [
    "text = soup.get_text()\n",
    "print(text)"
   ]
  },
  {
   "cell_type": "code",
   "execution_count": 78,
   "id": "e22abe1b-1b9b-4c12-97f7-a0b9c0ff0c6d",
   "metadata": {},
   "outputs": [
    {
     "name": "stdout",
     "output_type": "stream",
     "text": [
      "['Team 1', 'Team 2', 'Winner', 'Margin', 'Ground', 'Match  Date', 'Scorecard']\n",
      "[('EnglandPakistanEngland', '5 wickets', 'Melbourne', 'Nov 13, 2022', 'T20I # 1879'), ('EnglandIndiaEngland', '10 wickets', 'Adelaide', 'Nov 10, 2022', 'T20I # 1878'), ('New ZealandPakistanPakistan', '7 wickets', 'Sydney', 'Nov 9, 2022', 'T20I # 1877'), ('IndiaZimbabweIndia', '71 runs', 'Melbourne', 'Nov 6, 2022', 'T20I # 1873'), ('BangladeshPakistanPakistan', '5 wickets', 'Adelaide', 'Nov 6, 2022', 'T20I # 1872'), ('NetherlandsSouth AfricaNetherlands', '13 runs', 'Adelaide', 'Nov 6, 2022', 'T20I # 1871'), ('EnglandSri LankaEngland', '4 wickets', 'Sydney', 'Nov 5, 2022', 'T20I # 1867'), ('AustraliaAfghanistanAustralia', '4 runs', 'Adelaide', 'Nov 4, 2022', 'T20I # 1864'), ('IrelandNew ZealandNew Zealand', '35 runs', 'Adelaide', 'Nov 4, 2022', 'T20I # 1862'), ('PakistanSouth AfricaPakistan', '33 runs', 'Sydney', 'Nov 3, 2022', 'T20I # 1861'), ('BangladeshIndiaIndia', '5 runs', 'Adelaide', 'Nov 2, 2022', 'T20I # 1860'), ('NetherlandsZimbabweNetherlands', '5 wickets', 'Adelaide', 'Nov 2, 2022', 'T20I # 1859'), ('EnglandNew ZealandEngland', '20 runs', 'Brisbane', 'Nov 1, 2022', 'T20I # 1858'), ('AfghanistanSri LankaSri Lanka', '6 wickets', 'Brisbane', 'Nov 1, 2022', 'T20I # 1856'), ('AustraliaIrelandAustralia', '42 runs', 'Brisbane', 'Oct 31, 2022', 'T20I # 1855'), ('IndiaSouth AfricaSouth Africa', '5 wickets', 'Perth', 'Oct 30, 2022', 'T20I # 1853'), ('NetherlandsPakistanPakistan', '6 wickets', 'Perth', 'Oct 30, 2022', 'T20I # 1852'), ('BangladeshZimbabweBangladesh', '3 runs', 'Brisbane', 'Oct 30, 2022', 'T20I # 1851'), ('New ZealandSri LankaNew Zealand', '65 runs', 'Sydney', 'Oct 29, 2022', 'T20I # 1850'), ('IndiaNetherlandsIndia', '56 runs', 'Sydney', 'Oct 27, 2022', 'T20I # 1848'), ('BangladeshSouth AfricaSouth Africa', '104 runs', 'Sydney', 'Oct 27, 2022', 'T20I # 1847'), ('EnglandIrelandIreland', '5 runs', 'Melbourne', 'Oct 26, 2022', 'T20I # 1846'), ('AustraliaSri LankaAustralia', '7 wickets', 'Perth', 'Oct 25, 2022', 'T20I # 1845'), ('BangladeshNetherlandsBangladesh', '9 runs', 'Hobart', 'Oct 24, 2022', 'T20I # 1843'), ('IndiaPakistanIndia', '4 wickets', 'Melbourne', 'Oct 23, 2022', 'T20I # 1842'), ('IrelandSri LankaSri Lanka', '9 wickets', 'Hobart', 'Oct 23, 2022', 'T20I # 1841'), ('AfghanistanEnglandEngland', '5 wickets', 'Perth', 'Oct 22, 2022', 'T20I # 1840'), ('AustraliaNew ZealandNew Zealand', '89 runs', 'Sydney', 'Oct 22, 2022', 'T20I # 1839'), ('ScotlandZimbabweZimbabwe', '5 wickets', 'Hobart', 'Oct 21, 2022', 'T20I # 1838'), ('IrelandWest IndiesIreland', '9 wickets', 'Hobart', 'Oct 21, 2022', 'T20I # 1837'), ('NetherlandsSri LankaSri Lanka', '16 runs', 'Geelong', 'Oct 20, 2022', 'T20I # 1835'), ('West IndiesZimbabweWest Indies', '31 runs', 'Hobart', 'Oct 19, 2022', 'T20I # 1834'), ('IrelandScotlandIreland', '6 wickets', 'Hobart', 'Oct 19, 2022', 'T20I # 1833'), ('Sri Lanka', '79 runs', 'Geelong', 'Oct 18, 2022', 'T20I # 1832'), ('NamibiaNetherlandsNetherlands', '5 wickets', 'Geelong', 'Oct 18, 2022', 'T20I # 1830'), ('IrelandZimbabweZimbabwe', '31 runs', 'Hobart', 'Oct 17, 2022', 'T20I # 1828'), ('ScotlandWest IndiesScotland', '42 runs', 'Hobart', 'Oct 17, 2022', 'T20I # 1826'), ('Netherlands', '3 wickets', 'Geelong', 'Oct 16, 2022', 'T20I # 1825'), ('NamibiaSri LankaNamibia', '55 runs', 'Geelong', 'Oct 16, 2022', 'T20I # 1823')]\n"
     ]
    }
   ],
   "source": [
    "import requests\n",
    "from bs4 import BeautifulSoup\n",
    "import pandas as pd\n",
    "import re\n",
    "\n",
    "# URL of the page to scrape\n",
    "url = \"https://www.espncricinfo.com/records/tournament/team-match-results/icc-men-s-t20-world-cup-2022-23-14450\"\n",
    "\n",
    "# Send a GET request to the URL\n",
    "response = requests.get(url)\n",
    "\n",
    "# Parse the HTML content\n",
    "soup = BeautifulSoup(response.content, 'html.parser')\n",
    "\n",
    "# Extract column headers\n",
    "thead = soup.find_all(\"thead\")\n",
    "str_cells = str(thead)\n",
    "clean_thead = BeautifulSoup(str_cells, \"lxml\").get_text()\n",
    "pattern = r\"([A-Z][a-z]*\\s*\\d*)\"\n",
    "header = re.findall(pattern, clean_thead)\n",
    "index = 5\n",
    "string = header[index] + ' ' + header[index + 1]\n",
    "header[index] = string\n",
    "header.pop(index + 1)\n",
    "\n",
    "# Extract rows\n",
    "tr = soup.find_all(\"tr\")\n",
    "string_cells = str(tr)\n",
    "clean_tr = BeautifulSoup(string_cells, \"lxml\").get_text()\n",
    "pattern = r\"([A-Z][a-z]*(?:\\s*[A-Z][a-z]*)*)\\s*([0-9]+(?:\\s*wickets|\\s*runs|\\s*no\\s*result)?)\\s*([A-Z][a-z]*)\\s*(\\w+\\s[0-9]+,\\s[0-9]+)\\s*(T20I\\s*#\\s*[0-9]+)\"\n",
    "clean_rows = clean_tr.split(\",\", 1)[1]\n",
    "rows = re.findall(pattern, clean_rows)\n",
    "\n",
    "\n",
    "print(header)\n",
    "print(rows)"
   ]
  },
  {
   "cell_type": "code",
   "execution_count": 60,
   "id": "a6bdd6f9-21ce-418c-8289-bda581fccc83",
   "metadata": {},
   "outputs": [
    {
     "name": "stdout",
     "output_type": "stream",
     "text": [
      "England, Pakistan, England, 5 wickets, Melbourne, Nov 13, 2022, T20I # 1879\n"
     ]
    }
   ],
   "source": [
    "text = \"EnglandPakistanEngland5 wicketsMelbourneNov 13, 2022T20I # 1879\"\n",
    "team1 = text[:7].strip()\n",
    "team2 = text[7:15].strip()\n",
    "winner = text[15:22].strip()\n",
    "margin = text[22:31].strip()\n",
    "ground = text[31:40].strip()\n",
    "date = text[40:52].strip()\n",
    "id = text[52:].strip()\n",
    "format_text = ', '.join([team1, team2, winner, margin, ground, date, id])\n",
    "print(format_text)"
   ]
  },
  {
   "cell_type": "code",
   "execution_count": null,
   "id": "2011ab49-1acc-472c-ab10-c4da4739d699",
   "metadata": {},
   "outputs": [],
   "source": []
  }
 ],
 "metadata": {
  "kernelspec": {
   "display_name": "Python 3 (ipykernel)",
   "language": "python",
   "name": "python3"
  },
  "language_info": {
   "codemirror_mode": {
    "name": "ipython",
    "version": 3
   },
   "file_extension": ".py",
   "mimetype": "text/x-python",
   "name": "python",
   "nbconvert_exporter": "python",
   "pygments_lexer": "ipython3",
   "version": "3.11.7"
  }
 },
 "nbformat": 4,
 "nbformat_minor": 5
}
